{
  "nbformat": 4,
  "nbformat_minor": 0,
  "metadata": {
    "colab": {
      "name": "Assignment 7_21301465_Sumaitha Jannat.ipynb",
      "provenance": [],
      "collapsed_sections": []
    },
    "kernelspec": {
      "name": "python3",
      "display_name": "Python 3"
    },
    "language_info": {
      "name": "python"
    }
  },
  "cells": [
    {
      "cell_type": "code",
      "execution_count": null,
      "metadata": {
        "id": "SDABbADuwrjI"
      },
      "outputs": [],
      "source": [
        "#Name: Sumaitha Jannat\n",
        "#ID: 21301465\n",
        "#Sec: 12\n",
        "#Assignment 7"
      ]
    },
    {
      "cell_type": "code",
      "source": [
        "#Task 1\n",
        "class Student:\n",
        "   def __init__(self, name='Just a student', dept='nothing'):\n",
        "      self.__name = name \n",
        "      self.__department = dept \n",
        "   def set_department(self, dept):\n",
        "       self.__department = dept\n",
        "   def get_name(self):\n",
        "      return self.__name \n",
        "   def set_name(self,name):\n",
        "      self.__name = name\n",
        "   def __str__(self):\n",
        "      return 'Name: '+self.__name+' Department: '+self.__department\n",
        "class BBA_Student(Student):\n",
        "  def __init__(self,name='default',dept='BBA'):\n",
        "    super(). __init__(name,dept)\n",
        "    self.name=name\n",
        "    self.dept=dept\n",
        "print(BBA_Student()) \n",
        "print(BBA_Student('Humpty Dumpty')) \n",
        "print(BBA_Student('Little Bo Peep'))\n"
      ],
      "metadata": {
        "id": "gCu5FKhuw8N_",
        "colab": {
          "base_uri": "https://localhost:8080/"
        },
        "outputId": "37585274-2977-45aa-8780-642ba2044129"
      },
      "execution_count": 5,
      "outputs": [
        {
          "output_type": "stream",
          "name": "stdout",
          "text": [
            "Name: default Department: BBA\n",
            "Name: Humpty Dumpty Department: BBA\n",
            "Name: Little Bo Peep Department: BBA\n"
          ]
        }
      ]
    },
    {
      "cell_type": "code",
      "source": [
        "#Task 2\n",
        "class Vehicle:\n",
        "   def __init__(self):\n",
        "      self.x = 0 \n",
        "      self.y = 0\n",
        "   def moveUp(self):\n",
        "      self.y+=1 \n",
        "   def moveDown(self):\n",
        "      self.y-=1 \n",
        "   def moveRight(self):\n",
        "      self.x+=1\n",
        "   def moveLeft(self):\n",
        "      self.x-=1\n",
        "   def __str__(self):\n",
        "      return '('+str(self.x)+' , '+str(self.y)+')'\n",
        "class Vehicle2010(Vehicle):\n",
        "  def __init__(self):\n",
        "    super(). __init__()\n",
        "  def moveLowerLeft(self):\n",
        "    self.x-=1\n",
        "    self.y-=1\n",
        "  def equals(self,other=None):\n",
        "    if other!=None:\n",
        "      if str(self)==str(other):\n",
        "        return True\n",
        "      else:\n",
        "        return False\n",
        "print('Part 1')\n",
        "print('------')\n",
        "car = Vehicle()\n",
        "print(car) \n",
        "car.moveUp() \n",
        "print(car) \n",
        "car.moveLeft() \n",
        "print(car) \n",
        "car.moveDown() \n",
        "print(car) \n",
        "car.moveRight() \n",
        "print(car) \n",
        "print('------') \n",
        "print('Part 2') \n",
        "print('------') \n",
        "car1 = Vehicle2010() \n",
        "print(car1) \n",
        "car1.moveLowerLeft() \n",
        "print(car1) \n",
        "car2 = Vehicle2010() \n",
        "car2.moveLeft() \n",
        "print(car1.equals(car2)) \n",
        "car2.moveDown() \n",
        "print(car1.equals(car2))"
      ],
      "metadata": {
        "colab": {
          "base_uri": "https://localhost:8080/"
        },
        "id": "QPTJbCAFJQWb",
        "outputId": "f7bb7be1-97e7-4e87-a34d-a6e84aae22dc"
      },
      "execution_count": 4,
      "outputs": [
        {
          "output_type": "stream",
          "name": "stdout",
          "text": [
            "Part 1\n",
            "------\n",
            "(0 , 0)\n",
            "(0 , 1)\n",
            "(-1 , 1)\n",
            "(-1 , 0)\n",
            "(0 , 0)\n",
            "------\n",
            "Part 2\n",
            "------\n",
            "(0 , 0)\n",
            "(-1 , -1)\n",
            "False\n",
            "True\n"
          ]
        }
      ]
    },
    {
      "cell_type": "code",
      "source": [
        "#Task 3\n",
        "class Tournament:\n",
        "  def __init__(self,name='Default'):\n",
        "      self.__name = name\n",
        "  def set_name(self,name):\n",
        "      self.__name = name \n",
        "  def get_name(self):\n",
        "      return self.__name\n",
        "class Cricket_Tournament(Tournament):\n",
        "  def __init__(self,name=\"Default\",team=0,types='No Type'):\n",
        "    super(). __init__(name)\n",
        "    self.team=team\n",
        "    self.types=types\n",
        "  def detail(self):\n",
        "    return(f\"Cricket Tournament Name: {super().get_name()}\\nNumber of Teams: {self.team}\\nType: {self.types}\")\n",
        "class Tennis_Tournament(Cricket_Tournament):\n",
        "  def __init__(self,name,team):\n",
        "    super(). __init__(name,team)\n",
        "  def detail(self):\n",
        "    return(f\"Tennis Tournament Name: {super().get_name()}\\nNumber of Players: {self.team}\")\n",
        "ct1 = Cricket_Tournament()\n",
        "print(ct1.detail()) \n",
        "print(\"-----------------------\") \n",
        "ct2 = Cricket_Tournament(\"IPL\",10,\"t20\") \n",
        "print(ct2.detail()) \n",
        "print(\"-----------------------\") \n",
        "tt = Tennis_Tournament(\"Roland Garros\",128) \n",
        "print(tt.detail())"
      ],
      "metadata": {
        "colab": {
          "base_uri": "https://localhost:8080/"
        },
        "id": "Lc6m_58MMfqs",
        "outputId": "2fe4b054-781d-4ccf-e118-74412259fc9f"
      },
      "execution_count": 8,
      "outputs": [
        {
          "output_type": "stream",
          "name": "stdout",
          "text": [
            "Cricket Tournament Name: Default\n",
            "Number of Teams: 0\n",
            "Type: No Type\n",
            "-----------------------\n",
            "Cricket Tournament Name: IPL\n",
            "Number of Teams: 10\n",
            "Type: t20\n",
            "-----------------------\n",
            "Tennis Tournament Name: Roland Garros\n",
            "Number of Players: 128\n"
          ]
        }
      ]
    },
    {
      "cell_type": "code",
      "source": [
        "#Task 4\n",
        "class Product:\n",
        "  def __init__(self,id, title, price):\n",
        "    self.__id = id \n",
        "    self. __title = title \n",
        "    self. __price = price\n",
        "  def get_id_title_price(self):\n",
        "    return \"ID: \"+str(self.__id)+\" Title:\"+self.__title+ \" Price: \"+str(self.__price)\n",
        "class Book(Product):\n",
        "  def __init__(self,id,title,price,isbn,publ):\n",
        "    super().__init__(id,title,price)\n",
        "    self.isbn=isbn\n",
        "    self.p=publ\n",
        "  def printDetail(self):\n",
        "    return(f\"{super().get_id_title_price()} ISBN: {self.isbn} Publisher: {self.p}\")\n",
        "class CD(Product):\n",
        "  def __init__(self,id,title,price,band,duration,genre):\n",
        "    super(). __init__(id,title,price)\n",
        "    self.b=band\n",
        "    self.d=duration\n",
        "    self.g=genre\n",
        "  def printDetail(self):\n",
        "    return(f\"{super().get_id_title_price()} Band:{self.b} Duration: {self.d} minutes Genre:{self.g}\")\n",
        "book = Book(1,\"The Alchemist\",500,\"97806\",\"HarperCollins\") \n",
        "print(book.printDetail()) \n",
        "print(\"-----------------------\") \n",
        "cd = CD(2,\"Shotto\",300,\"Warfaze\",50,\"Hard Rock\") \n",
        "print(cd.printDetail())"
      ],
      "metadata": {
        "colab": {
          "base_uri": "https://localhost:8080/"
        },
        "id": "PGB6FwtRScNf",
        "outputId": "d9b6cc13-b6ee-4963-8d2d-8b3ba5f3ca09"
      },
      "execution_count": 10,
      "outputs": [
        {
          "output_type": "stream",
          "name": "stdout",
          "text": [
            "ID: 1 Title:The Alchemist Price: 500 ISBN: 97806 Publisher: HarperCollins\n",
            "-----------------------\n",
            "ID: 2 Title:Shotto Price: 300 Band:Warfaze Duration: 50 minutes Genre:Hard Rock\n"
          ]
        }
      ]
    },
    {
      "cell_type": "code",
      "source": [
        "#Task 5\n",
        "class Animal:\n",
        "  def __init__(self,sound):\n",
        "    self.__sound = sound\n",
        "  def makeSound(self):\n",
        "    return self.__sound\n",
        "\n",
        "class Printer:\n",
        "  def printSound(self, a):\n",
        "    print(a.makeSound())\n",
        "class Dog(Animal):\n",
        "  def __init__(self,sound):\n",
        "    return super(). __init__(sound)\n",
        "class Cat(Animal):\n",
        "  def __init__(self,sound):\n",
        "    return super(). __init__(sound)\n",
        "print('Output:')\n",
        "d1 = Dog('bark') \n",
        "c1 = Cat('meow') \n",
        "a1 = Animal('Animal does not make sound') \n",
        "pr = Printer() \n",
        "pr.printSound(a1) \n",
        "pr.printSound(c1) \n",
        "pr.printSound(d1)"
      ],
      "metadata": {
        "colab": {
          "base_uri": "https://localhost:8080/"
        },
        "id": "pN_3qDmEgAm4",
        "outputId": "03b83fc8-acef-4a3f-bcb1-4700c142ae47"
      },
      "execution_count": 11,
      "outputs": [
        {
          "output_type": "stream",
          "name": "stdout",
          "text": [
            "Output:\n",
            "Animal does not make sound\n",
            "meow\n",
            "bark\n"
          ]
        }
      ]
    },
    {
      "cell_type": "code",
      "source": [
        "#Task 6\n",
        "class Shape:\n",
        "  def __init__(self, name='Default', height=0, base=0):\n",
        "    self.area = 0 \n",
        "    self.name = name \n",
        "    self.height = height \n",
        "    self.base = base \n",
        "  def get_height_base(self):\n",
        "    return \"Height: \"+str(self.height)+\",Base: \"+str(self.base)\n",
        "class triangle(Shape):\n",
        "  def __init__(self,*others):\n",
        "    super().__init__(name='Default', height=0, base=0)\n",
        "    if len(others)==0:\n",
        "      self.name='Default'\n",
        "      self.height=0\n",
        "      self.base=0\n",
        "    elif len(others)==3:\n",
        "      self.name=others[0]\n",
        "      self.height=others[1]\n",
        "      self.base=others[2]\n",
        "  def calcArea(self):\n",
        "    self.a=1/2*self.height*self.base\n",
        "  def printDetail(self):\n",
        "    result= 'Shape name:'+self.name +'\\nHeight:'+str(self.height)+','+' Base:'+str(self.base)\n",
        "    result+= '\\n'+'Area:'+str(self.a)\n",
        "    return result\n",
        "class trapezoid(Shape):\n",
        "  def __init__(self,name,height,base,side):\n",
        "        super().__init__(name, height, base)\n",
        "        self.name = name\n",
        "        self.base = base\n",
        "        self.height = height\n",
        "        self.side = side\n",
        "  def calcArea(self):\n",
        "        self.area = (1/2)*(self.base+self.side)*self.height\n",
        "  def printDetail(self):\n",
        "        result= 'Shape name:'+self.name+','+' Height:'+str(self.height)+','+' Base:'+str(self.base)+','+' Side_A:'+str(self.side)\n",
        "        result+= '\\n'+'Area:'+str(self.area)\n",
        "        return result\n",
        "print('Output:')\n",
        "tri_default = triangle() \n",
        "tri_default.calcArea() \n",
        "print(tri_default.printDetail()) \n",
        "print('--------------------------') \n",
        "tri = triangle('Triangle', 10, 5) \n",
        "tri.calcArea() \n",
        "print(tri.printDetail()) \n",
        "print('---------------------------') \n",
        "trap = trapezoid('Trapezoid', 10, 6, 4) \n",
        "trap.calcArea() \n",
        "print(trap.printDetail())"
      ],
      "metadata": {
        "colab": {
          "base_uri": "https://localhost:8080/"
        },
        "id": "gsNgRixfhz0H",
        "outputId": "ceb4027c-2c40-4ad3-9516-a28cc1264573"
      },
      "execution_count": 12,
      "outputs": [
        {
          "output_type": "stream",
          "name": "stdout",
          "text": [
            "Output:\n",
            "Shape name:Default\n",
            "Height:0, Base:0\n",
            "Area:0.0\n",
            "--------------------------\n",
            "Shape name:Triangle\n",
            "Height:10, Base:5\n",
            "Area:25.0\n",
            "---------------------------\n",
            "Shape name:Trapezoid, Height:10, Base:6, Side_A:4\n",
            "Area:50.0\n"
          ]
        }
      ]
    },
    {
      "cell_type": "code",
      "source": [
        "#Task 7\n",
        "class Football:\n",
        "  def __init__(self, team_name, name, role):\n",
        "    self.__team = team_name \n",
        "    self.__name = name \n",
        "    self.role = role \n",
        "    self.earning_per_match = 0 \n",
        "  def get_name_team(self):\n",
        "    return 'Name: '+self.__name+', Team Name: ' +self.__team\n",
        "class Player(Football):\n",
        "  def __init__(self,team,player,position,goal,match):\n",
        "    super(). __init__(team, player,position)\n",
        "    self.g=goal\n",
        "    self.m=match\n",
        "    earn = self.g * 1000 + self.m * 10\n",
        "    self.earning_per_match = earn\n",
        "  def calculate_ratio(self):\n",
        "    ratio=self.g/self.m\n",
        "    self.r=ratio\n",
        "  def print_details(self):\n",
        "    print(Football.get_name_team(self))\n",
        "    print('Team Role:',self.role)\n",
        "    print('Team Goal:',self.g, ',Total Played:',self.m)\n",
        "    print('Goal Ratio:',self.r)\n",
        "    print('Match Earning:',self.earning_per_match,\"k\")\n",
        "class Manager(Football):\n",
        "  def __init__(self,team_name,name,role,win):\n",
        "    super().__init__(team_name,name,role)\n",
        "    self.w=win\n",
        "    earn = self.w * 1000\n",
        "    self.earning_per_match = earn\n",
        "  def print_details(self):\n",
        "    print(Player.get_name_team(self))\n",
        "    print('Team Role:',self.role)\n",
        "    print('Total Win:',self.w)\n",
        "    print('Match Earning:',self.earning_per_match,\"k\")\n",
        "print('Output:')\n",
        "player_one = Player('Juventus', 'Ronaldo', 'Striker', 25, 32) \n",
        "player_one.calculate_ratio() \n",
        "player_one.print_details() \n",
        "print('------------------------------------------') \n",
        "manager_one = Manager('Real Madrid', 'Zidane', 'Manager', 25) \n",
        "manager_one.print_details()"
      ],
      "metadata": {
        "colab": {
          "base_uri": "https://localhost:8080/"
        },
        "id": "e9JgHRY5ozZ2",
        "outputId": "71274d0e-62db-442c-e0dc-7b26c64a9c92"
      },
      "execution_count": 16,
      "outputs": [
        {
          "output_type": "stream",
          "name": "stdout",
          "text": [
            "Output:\n",
            "Name: Ronaldo, Team Name: Juventus\n",
            "Team Role: Striker\n",
            "Team Goal: 25 ,Total Played: 32\n",
            "Goal Ratio: 0.78125\n",
            "Match Earning: 25320 k\n",
            "------------------------------------------\n",
            "Name: Zidane, Team Name: Real Madrid\n",
            "Team Role: Manager\n",
            "Total Win: 25\n",
            "Match Earning: 25000 k\n"
          ]
        }
      ]
    },
    {
      "cell_type": "code",
      "source": [
        ""
      ],
      "metadata": {
        "id": "QirF1Sjzsm7a"
      },
      "execution_count": null,
      "outputs": []
    }
  ]
}