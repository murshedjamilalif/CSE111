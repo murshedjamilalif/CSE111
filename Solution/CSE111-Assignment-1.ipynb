{
 "cells": [
  {
   "cell_type": "code",
   "execution_count": null,
   "metadata": {},
   "outputs": [],
   "source": [
    "#String task 1\n",
    "inp = input(\"Enter a word \")\n",
    "uppercount = 0\n",
    "lowercount = 0\n",
    "for x in inp:\n",
    "    if x>=chr(65) and x<=chr(90):\n",
    "        uppercount+=1\n",
    "    elif x>=chr(97) and x<=chr(122):\n",
    "        lowercount+=1\n",
    "if uppercount>=lowercount:\n",
    "    print(inp.upper())\n",
    "else:\n",
    "    print(inp.lower())                "
   ]
  },
  {
   "cell_type": "code",
   "execution_count": null,
   "metadata": {},
   "outputs": [],
   "source": [
    "#String task 2\n",
    "inp = input(\"Enter anything: \")\n",
    "num = [\"0\",\"1\",\"2\",\"3\",\"4\",\"5\",\"6\",\"7\",\"8\",\"9\"]\n",
    "number=0\n",
    "word=0\n",
    "for x in inp:\n",
    "    if x in num:\n",
    "        number+=1\n",
    "    else:\n",
    "        word+=1\n",
    "if number==len(inp):\n",
    "    print(\"NUMBERS\")\n",
    "elif word==len(inp):\n",
    "    print(\"WORDS\") \n",
    "else:\n",
    "    print(\"MIXED\")               "
   ]
  },
  {
   "cell_type": "code",
   "execution_count": null,
   "metadata": {},
   "outputs": [],
   "source": [
    "#String task 3\n",
    "inp = input(\"Enter any word: \")\n",
    "newlst= []\n",
    "lst2=[]\n",
    "for x in inp: \n",
    "    if x >=chr(65) and x <=chr(90):\n",
    "        newlst.append(x)\n",
    "for j in newlst:\n",
    "    n=inp.find(j)\n",
    "    lst2.append(n)\n",
    "#taking the words in between the Upperclass letters into a variable\n",
    "a=(inp[lst2[0]+1:lst2[1]])\n",
    "if len(a)>0:\n",
    "    print(a)\n",
    "else:\n",
    "    print(\"Blank\")    "
   ]
  },
  {
   "cell_type": "code",
   "execution_count": null,
   "metadata": {},
   "outputs": [],
   "source": [
    "#String task 4\n",
    "s = input(\"Enter a sentence: \")\n",
    "if \"too good\" in s:\n",
    "    x=s.replace(\"too good\", \"excellent\")\n",
    "    print(x)\n",
    "else:\n",
    "    print(s)   "
   ]
  },
  {
   "cell_type": "code",
   "execution_count": null,
   "metadata": {},
   "outputs": [],
   "source": [
    "#String Task 5\n",
    "inp = input()\n",
    "inp2 = input()\n",
    "str = ''\n",
    "for i in inp:\n",
    "    if i in inp2:\n",
    "        str+=i\n",
    "for i in inp2:\n",
    "    if i in str:\n",
    "        str+=i\n",
    "if str=='':\n",
    "    print(\"Nothing in common\")\n",
    "else:\n",
    "    print(str)                    "
   ]
  },
  {
   "cell_type": "code",
   "execution_count": null,
   "metadata": {},
   "outputs": [],
   "source": [
    "#String Task 6\n",
    "passcode = input()\n",
    "specialChar = [\"_\",\"$\",\"#\",\"@\"]\n",
    "uppercase= 0\n",
    "lowercase = 0\n",
    "digits = 0\n",
    "char = 0\n",
    "for x in passcode:\n",
    "    if x>=chr(65) and x<=chr(90):\n",
    "        uppercase+=1\n",
    "    if x>=chr(97) and x<=chr(122):\n",
    "        lowercase+=1  \n",
    "    if x>=chr(48) and x<=chr(57):\n",
    "        digits+=1         \n",
    "    if x in specialChar:\n",
    "        char+=1\n",
    "newlst = []\n",
    "if uppercase==0:\n",
    "    newlst+=[\"Uppercase character missing\"]\n",
    "if lowercase==0:\n",
    "    newlst+=[\"Lowercase character missing\"]\n",
    "if digits==0:\n",
    "    newlst+=[\"Digit missing\"]\n",
    "if char==0:\n",
    "    newlst+=[\"Special character missing\"]\n",
    "if len(newlst)==0:\n",
    "    print(\"OK\")\n",
    "else:\n",
    "    for i in newlst:\n",
    "        if i==newlst[len(newlst)-1]:\n",
    "            print(i)\n",
    "        else:\n",
    "            print(i, end=\", \")                            \n"
   ]
  },
  {
   "cell_type": "code",
   "execution_count": null,
   "metadata": {},
   "outputs": [],
   "source": [
    "#List task 1\n",
    "lst=[]\n",
    "while True:\n",
    "    inp=input(\"\")\n",
    "    if inp=='STOP':\n",
    "        break\n",
    "    else:\n",
    "        lst.append(inp)\n",
    "mydict = list(dict.fromkeys(lst))\n",
    "for x in range(0,len(mydict),1):\n",
    "    counter=lst.count(mydict[x])\n",
    "    print(mydict[x],\"-\",str(counter),\"times\")         "
   ]
  },
  {
   "cell_type": "code",
   "execution_count": null,
   "metadata": {},
   "outputs": [],
   "source": [
    "#List task 2\n",
    "lst=[]\n",
    "mydict={}\n",
    "n =int(input(\"Enter your number: \"))\n",
    "for inp in range(n):\n",
    "    inp = input()\n",
    "    sum = 0\n",
    "    new = inp.split()\n",
    "    for i in new:\n",
    "        sum+=int(i)\n",
    "    mydict[sum]=new   \n",
    "x = 0    \n",
    "for k,v in mydict.items():  \n",
    "    if k>x:\n",
    "        x=k\n",
    "        y=v       \n",
    "for i in y:\n",
    "    lst.append(int(i))        \n",
    "print(x)      \n",
    "print(lst)   "
   ]
  },
  {
   "cell_type": "code",
   "execution_count": 1,
   "metadata": {},
   "outputs": [
    {
     "name": "stdout",
     "output_type": "stream",
     "text": [
      "[6, 8, 10, 9, 12, 15, 18, 24, 30]\n"
     ]
    }
   ],
   "source": [
    "#List task 3\n",
    "inp = input()\n",
    "inp = inp.split()\n",
    "inp2 = input()\n",
    "inp2 = inp2.split()\n",
    "lst=[]\n",
    "for i in inp:\n",
    "   for j in inp2:\n",
    "       multiple = int(i)*int(j)\n",
    "       lst.append(multiple)\n",
    "print(lst)"
   ]
  },
  {
   "cell_type": "code",
   "execution_count": 5,
   "metadata": {},
   "outputs": [
    {
     "name": "stdout",
     "output_type": "stream",
     "text": [
      "UB Jumper\n",
      "UB Jumper\n",
      "Not UB Jumper\n"
     ]
    }
   ],
   "source": [
    "#List task 4\n",
    "mtlst = []\n",
    "while True:\n",
    "    inp = input()\n",
    "    if inp=='STOP':\n",
    "        break\n",
    "    else:\n",
    "        mtlst=inp.split()\n",
    "  #  print(mtlst)\n",
    "    lst=[]\n",
    "    count=0\n",
    "    for i in range(1,len(mtlst)):\n",
    "        if count>= len(mtlst):\n",
    "            break\n",
    "        else:\n",
    "            new=int(mtlst[i])-int(mtlst[count]) \n",
    "            lst.append(abs(new))\n",
    "            count+=1\n",
    "    var=len(mtlst)\n",
    "    var2=len(lst)\n",
    "    ubJumper=0\n",
    "    notJumper=0\n",
    "    for x in lst:\n",
    "        if x>var2:\n",
    "            notJumper+=1\n",
    "        else:\n",
    "            ubJumper+=1\n",
    "    if notJumper>0:\n",
    "        print(\"Not UB Jumper\")                       \n",
    "    else:\n",
    "        print(\"UB Jumper\")"
   ]
  },
  {
   "cell_type": "code",
   "execution_count": 8,
   "metadata": {},
   "outputs": [
    {
     "name": "stdout",
     "output_type": "stream",
     "text": [
      "['a', 'c', 'r', 'u', 'B', '1', '3', '2', '4']\n",
      "[ ' a ' ,   ' c ' ,   ' r ' ,   ' u ' ,   ' B ' ,   ' 1 ' ,   ' 3 ' ,   ' 2 ' ,   ' 4 ' ] "
     ]
    }
   ],
   "source": [
    "#List task 5\n",
    "inp = input(\"Enter an alphanumeric input: \")\n",
    "upperchar=''\n",
    "lowerchar=''\n",
    "odd=''\n",
    "even=''\n",
    "lst=[]\n",
    "mynum=''\n",
    "for i in inp:\n",
    "    if i.isalpha()==True:\n",
    "        if i>=chr(65)and i<=chr(90):\n",
    "            upperchar+=i\n",
    "        else:\n",
    "            lowerchar+=i\n",
    "    if i.isdigit()==True:\n",
    "        if int(i)%2==0:\n",
    "            even+=i\n",
    "        else:\n",
    "            odd+=i\n",
    "upperchar=sorted(upperchar)\n",
    "lowerchar=sorted(lowerchar)\n",
    "odd=sorted(odd)\n",
    "even=sorted(even)\n",
    "newvar=lowerchar+upperchar+odd+even\n",
    "lst.append(newvar)\n",
    "for i in lst:\n",
    "    mynum+=str(i)\n",
    "print(mynum)   \n",
    "for x in mynum:\n",
    "    print(x,end='')"
   ]
  },
  {
   "cell_type": "code",
   "execution_count": 11,
   "metadata": {},
   "outputs": [
    {
     "name": "stdout",
     "output_type": "stream",
     "text": [
      "0\n"
     ]
    }
   ],
   "source": [
    "#List Task 6\n",
    "inp = input()\n",
    "inp=inp.split()\n",
    "member=input()\n",
    "member= member.split()\n",
    "newvar=int(inp[0])\n",
    "totaltry=int(inp[-1])\n",
    "lst=[]\n",
    "for i in member:\n",
    "    final=5-int(i)\n",
    "    if final<totaltry:\n",
    "        pass\n",
    "    else:\n",
    "        lst.append(final)\n",
    "var= len(lst)//3\n",
    "print(var)        \n"
   ]
  },
  {
   "cell_type": "code",
   "execution_count": 15,
   "metadata": {},
   "outputs": [
    {
     "name": "stdout",
     "output_type": "stream",
     "text": [
      "Values: (200, 300, 400, 700)\n"
     ]
    }
   ],
   "source": [
    "#Dictionary task 1\n",
    "dict1={'a': 100, 'b': 100, 'c': 200, 'd': 300}\n",
    "dict2={'a': 300, 'b': 200, 'd': 400, 'e': 200}\n",
    "mydict={}\n",
    "lst=[]\n",
    "mydict.update(dict1)\n",
    "for k,v in dict1.items():\n",
    "    if k in dict2:\n",
    "        mydict[k]=dict1[k]+dict2[k]\n",
    "    else:\n",
    "        mydict[k]=v \n",
    "for i,j in mydict.items():\n",
    "    if j not in lst:\n",
    "        lst.append(j)   \n",
    "var=sorted(lst)\n",
    "print('Values:',tuple(var))                "
   ]
  },
  {
   "cell_type": "code",
   "execution_count": null,
   "metadata": {},
   "outputs": [],
   "source": [
    "#Dictionary task 2\n",
    "dict={}\n",
    "while True:\n",
    "    inp=input()\n",
    "    if inp=='STOP':\n",
    "        break\n",
    "    else:\n",
    "        if int(inp) not in dict:\n",
    "            dict[int(inp)]=1\n",
    "        else:\n",
    "            dict[int(inp)]+=1\n",
    "for i in dict.items():\n",
    "    k,v=i\n",
    "    print(k,'-',v,'times') "
   ]
  },
  {
   "cell_type": "code",
   "execution_count": null,
   "metadata": {},
   "outputs": [],
   "source": [
    "#Dictionary task 3\n",
    "dict={}\n",
    "mydict=input('Enter a dictionary: ')\n",
    "mydict=mydict.split(',')\n",
    "for i in mydict:\n",
    "    k,v=i.split(':')\n",
    "    if v not in dict:\n",
    "        dict[v]=[k]\n",
    "    else:\n",
    "        dict[v]+=[k]\n",
    "print(dict)"
   ]
  },
  {
   "cell_type": "code",
   "execution_count": null,
   "metadata": {},
   "outputs": [],
   "source": [
    "#Dictionary task 4\n",
    "inp=input()\n",
    "inp2=input()\n",
    "dict={}\n",
    "dict2={}\n",
    "for i in inp:\n",
    "    if i not in dict:\n",
    "        dict[i]=1\n",
    "    else:\n",
    "        dict[i]+=1\n",
    "for j in inp2:\n",
    "    if j not in dict2:\n",
    "        dict2[j]=1\n",
    "    else:\n",
    "        dict2[j]+=1\n",
    "if dict==dict2:\n",
    "    print('Those strings are anagrams')\n",
    "else:\n",
    "    print('Those strings are not anagrams') "
   ]
  },
  {
   "cell_type": "code",
   "execution_count": null,
   "metadata": {},
   "outputs": [],
   "source": [
    "#Dictionary task 5\n",
    "dict={' ':0,'.':1,',':11,'?':111,'!':1111,':':11111,'a':2,'A':2,'b':22,'c':222,'C':222,'d':3,'D':3,'e':33,'E':33,'f':333,'F':333,'g':4,'G':4,'h':44,'H':44,'i':444,'I':444,'j':5,'J':5,'k':55,'K':55,'l':555,'L':555,'m':6,'M':6,'n':66,'N':66,'o':666,'O':666,'p':7,'P':7,'q':77,'Q':77,'r':777,'R':777,'s':7777,'S':7777,'t':8,'T':8,'u':88,'U':88,'v':888,'V':888,'w':9,'W':9,'x':99,'X':99,'y':999,'Y':999,'z':9999,'Z':9999}\n",
    "inp=input()\n",
    "for i in inp:\n",
    "    if i in dict:\n",
    "        print(dict[i],end='')"
   ]
  }
 ],
 "metadata": {
  "interpreter": {
   "hash": "e94dd2023f21a93510fb04e380baf504272aa09c40641b7e8c2a7346f5fbf161"
  },
  "kernelspec": {
   "display_name": "Python 3.10.2 64-bit",
   "language": "python",
   "name": "python3"
  },
  "language_info": {
   "codemirror_mode": {
    "name": "ipython",
    "version": 3
   },
   "file_extension": ".py",
   "mimetype": "text/x-python",
   "name": "python",
   "nbconvert_exporter": "python",
   "pygments_lexer": "ipython3",
   "version": "3.10.2"
  },
  "orig_nbformat": 4
 },
 "nbformat": 4,
 "nbformat_minor": 2
}
