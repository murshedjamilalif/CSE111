{
 "cells": [
  {
   "cell_type": "code",
   "execution_count": 28,
   "metadata": {},
   "outputs": [
    {
     "data": {
      "text/plain": [
       "0"
      ]
     },
     "execution_count": 28,
     "metadata": {},
     "output_type": "execute_result"
    }
   ],
   "source": [
    "#Function task 1\n",
    "def divider(num1, num2):\n",
    "    if num2 == 0 or num1==0:\n",
    "        return 0\n",
    "    den = num1//num2\n",
    "    neu = num1/num2\n",
    "    fraction= neu-den\n",
    "    return fraction\n",
    "num1=int(input())\n",
    "num2=int(input()) \n",
    "divider(num1,num2)"
   ]
  },
  {
   "cell_type": "code",
   "execution_count": 29,
   "metadata": {},
   "outputs": [
    {
     "name": "stdout",
     "output_type": "stream",
     "text": [
      "Score is 20.8 . You are Normal\n"
     ]
    }
   ],
   "source": [
    "#Function task 2\n",
    "def bmicount(height,weight):\n",
    "    height= height/100\n",
    "    bmi = weight/(height**2)\n",
    "    if bmi<18.5:\n",
    "        print(\"Score is\",\"{:.1f}\".format(bmi),'.','You are Underweight')\n",
    "    elif bmi>=18.5 and bmi<=24.9:\n",
    "        print(\"Score is\",\"{:.1f}\".format(bmi),'.','You are Normal') \n",
    "    elif bmi>=25 and bmi<=30:\n",
    "        print(\"Score is\",\"{:.1f}\".format(bmi),'.','You are Overweight')\n",
    "    else:\n",
    "        print(\"Score is\",\"{:.1f}\".format(bmi),'.','You are Obese')\n",
    "height=int(input(\"Enter your Weight: \"))\n",
    "weight=int(input(\"Enter your Height: \"))           \n",
    "bmicount(height,weight)         "
   ]
  },
  {
   "cell_type": "code",
   "execution_count": 30,
   "metadata": {},
   "outputs": [
    {
     "data": {
      "text/plain": [
       "45"
      ]
     },
     "execution_count": 30,
     "metadata": {},
     "output_type": "execute_result"
    }
   ],
   "source": [
    "#Function task 3\n",
    "def arguments(num1,num2,num3):\n",
    "    count=0\n",
    "    for i in range(num1,num2):\n",
    "        if i%num3==0:\n",
    "            count+=i\n",
    "    return count\n",
    "num1=int(input())\n",
    "num2=int(input())\n",
    "num3=int(input())    \n",
    "arguments(num1,num2,num3)    "
   ]
  },
  {
   "cell_type": "code",
   "execution_count": 51,
   "metadata": {},
   "outputs": [
    {
     "data": {
      "text/plain": [
       "223.6"
      ]
     },
     "execution_count": 51,
     "metadata": {},
     "output_type": "execute_result"
    }
   ],
   "source": [
    "#Function task 4\n",
    "def order(item,location=\"Mohakhali\"):\n",
    "    dict={\"BBQ Chicken Cheese Burger\": 250,\"Beef Burger\": 170, \"Naga Drums\": 200}\n",
    "    total=0\n",
    "    price=0\n",
    "    for i,j in dict.items():\n",
    "        if i==item:\n",
    "            price+=j\n",
    "    if location==\"Mohakhali\":\n",
    "        total= price + 40 + (price*(8/100))\n",
    "    else:\n",
    "        total= price + 60 + (price*(8/100))   \n",
    "    return total\n",
    "order('Beef Burger')                "
   ]
  },
  {
   "cell_type": "code",
   "execution_count": 42,
   "metadata": {},
   "outputs": [
    {
     "name": "stdout",
     "output_type": "stream",
     "text": [
      "changed: alice@sheba.xyz\n"
     ]
    }
   ],
   "source": [
    "#Function task 5\n",
    "def func(email,new,old):\n",
    "    mail=email.split(\"@\")\n",
    "    if mail[1]==new:\n",
    "        print(\"unchanged:\", email)\n",
    "    else:\n",
    "        print(\"changed:\",mail[0]+\"@\"+new)    \n",
    "email=input() \n",
    "new=input() \n",
    "old=input()        \n",
    "func(email,new,old)  "
   ]
  },
  {
   "cell_type": "code",
   "execution_count": 52,
   "metadata": {},
   "outputs": [
    {
     "name": "stdout",
     "output_type": "stream",
     "text": [
      "Vowels:e,e,o.Total number of vowels: 3\n"
     ]
    }
   ],
   "source": [
    "#Function task 6\n",
    "def vcounter(myinp):\n",
    "    vowels=['a','e','i','o','u','A','E','I','O','U']\n",
    "    vlist=[]\n",
    "    counter=0\n",
    "    for i in myinp:\n",
    "        if i in vowels:\n",
    "            counter+=1\n",
    "            vlist.append(i)             \n",
    "        else:\n",
    "            pass         \n",
    "    if len(vlist)>0:\n",
    "        print(\"Vowels:\", end=\"\")\n",
    "        for x in vlist:\n",
    "            if x==vlist[-1]:\n",
    "                print(x,end=\".\")\n",
    "            else:\n",
    "                print(x,end=\",\" )\n",
    "        print('Total number of vowels:',counter)        \n",
    "    else:\n",
    "        print(\"No vowels in the name.\")  \n",
    "myinp=input()          \n",
    "vcounter(myinp) "
   ]
  },
  {
   "cell_type": "code",
   "execution_count": 53,
   "metadata": {},
   "outputs": [
    {
     "name": "stdout",
     "output_type": "stream",
     "text": [
      "Palindrome\n"
     ]
    }
   ],
   "source": [
    "#Function task 7\n",
    "def pchecker(newstr):\n",
    "    inv =newstr[::-1]\n",
    "    if newstr==inv:\n",
    "        print(\"Palindrome\")\n",
    "    else:\n",
    "        print(\"Not Palindrome\")        \n",
    "myinp=input()\n",
    "newstr=\"\" \n",
    "for i in myinp:\n",
    "    if i==\" \":\n",
    "        pass\n",
    "    else:\n",
    "        newstr+=i\n",
    "pchecker(newstr)        "
   ]
  },
  {
   "cell_type": "code",
   "execution_count": 54,
   "metadata": {},
   "outputs": [
    {
     "name": "stdout",
     "output_type": "stream",
     "text": [
      "10 years, 11 months, 20 days.\n"
     ]
    }
   ],
   "source": [
    "#Function task 8\n",
    "def calendar(inp):\n",
    "    year= inp//365\n",
    "    month= (inp%365)//30\n",
    "    days= ((inp%365)%30)\n",
    "    print(year,\"years,\",month,\"months,\",days,\"days.\")\n",
    "inp=int(input())\n",
    "calendar(inp)"
   ]
  },
  {
   "cell_type": "code",
   "execution_count": 26,
   "metadata": {},
   "outputs": [
    {
     "name": "stdout",
     "output_type": "stream",
     "text": [
      "My favourite animal is a dog. A dog has sharp teeth so that it can eat flesh very easily. Do you know my pet dog’s name? I love my pet very much.\n"
     ]
    }
   ],
   "source": [
    "#function task 9\n",
    "def punc(para):\n",
    "    newstr = ''\n",
    "    newstr += para[0].upper()\n",
    "    count = 1\n",
    "    while count < len(para):\n",
    "        if para[count] == \"i\" and not para[count-1].isalpha() and not para[count+1].isalpha():\n",
    "            newstr += 'I'\n",
    "            count+=1\n",
    "        elif para[count:count+2] == '. ' or para[count:count+2]== \"! \" or para[count:count+2] == '? ':\n",
    "            newstr += para[count:count+2]\n",
    "            newstr += para[count+2].upper()\n",
    "            count+=3\n",
    "        else:\n",
    "            newstr += para[count]\n",
    "            count +=1\n",
    "    return newstr\n",
    "para = input(\"Type a paragraph: \")\n",
    "print(punc(para))   "
   ]
  }
 ],
 "metadata": {
  "interpreter": {
   "hash": "e94dd2023f21a93510fb04e380baf504272aa09c40641b7e8c2a7346f5fbf161"
  },
  "kernelspec": {
   "display_name": "Python 3.10.2 64-bit",
   "language": "python",
   "name": "python3"
  },
  "language_info": {
   "codemirror_mode": {
    "name": "ipython",
    "version": 3
   },
   "file_extension": ".py",
   "mimetype": "text/x-python",
   "name": "python",
   "nbconvert_exporter": "python",
   "pygments_lexer": "ipython3",
   "version": "3.10.2"
  },
  "orig_nbformat": 4
 },
 "nbformat": 4,
 "nbformat_minor": 2
}
