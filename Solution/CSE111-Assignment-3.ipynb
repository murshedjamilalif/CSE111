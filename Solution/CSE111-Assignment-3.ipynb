{
 "cells": [
  {
   "cell_type": "code",
   "execution_count": 2,
   "metadata": {},
   "outputs": [
    {
     "name": "stdout",
     "output_type": "stream",
     "text": [
      "Integer\n",
      "1234\n",
      "=====================\n",
      "String\n",
      "Hello\n",
      "=====================\n",
      "Float\n",
      "4.0\n"
     ]
    }
   ],
   "source": [
    "#OOP task 1\n",
    "class DataType:\n",
    "    def __init__(data,name,value):\n",
    "        data.name=name\n",
    "        data.value=value\n",
    "data_type1 = DataType('Integer', 1234)\n",
    "print(data_type1.name)\n",
    "print(data_type1.value)\n",
    "print('=====================')\n",
    "data_type2 = DataType('String','Hello')\n",
    "print(data_type2.name)\n",
    "print(data_type2.value)\n",
    "print('=====================')\n",
    "data_type3 = DataType('Float', 4.0)\n",
    "print(data_type3.name)\n",
    "print(data_type3.value)"
   ]
  },
  {
   "cell_type": "code",
   "execution_count": 4,
   "metadata": {},
   "outputs": [
    {
     "name": "stdout",
     "output_type": "stream",
     "text": [
      "Name of this flower: Rose\n",
      "Color of this flower: Red\n",
      "Number of petal: 6\n",
      "=====================\n",
      "Name of this flower: Orchid\n",
      "Color of this flower: Purple\n",
      "Number of petal: 4\n"
     ]
    }
   ],
   "source": [
    "#OOP task 2\n",
    "#Write your class code here\n",
    "class Flower:\n",
    "    pass\n",
    "flower1 = Flower()\n",
    "flower1.name=\"Rose\"\n",
    "flower1.color=\"Red\"\n",
    "flower1.num_of_petal=6\n",
    "print(\"Name of this flower:\", flower1.name)\n",
    "print(\"Color of this flower:\",flower1.color)\n",
    "print(\"Number of petal:\",flower1.num_of_petal)\n",
    "print(\"=====================\")\n",
    "flower2 = Flower()\n",
    "flower2.name=\"Orchid\"\n",
    "flower2.color=\"Purple\"\n",
    "flower2.num_of_petal=4\n",
    "print(\"Name of this flower:\",flower2.name)\n",
    "print(\"Color of this flower:\",flower2.color)\n",
    "print (\"Number of petal:\",flower2. num_of_petal)\n",
    "#Write the code for subtask 2 and 3 here"
   ]
  },
  {
   "cell_type": "code",
   "execution_count": 17,
   "metadata": {},
   "outputs": [
    {
     "name": "stdout",
     "output_type": "stream",
     "text": [
      "Part 1:\n",
      "Name of president:  Aladeen\n",
      "Designation:  President Prime Minister Admiral General\n",
      "Number of wife:  100\n",
      "Is he/she a dictator:  True\n",
      "Part 2:\n",
      "Name of president:  Donald Trump\n",
      "Designation:  President\n",
      "Number of wife:  1\n",
      "Is he/she a dictator:  False\n",
      "Previous information lost\n"
     ]
    }
   ],
   "source": [
    "#OOP task 3\n",
    "class Wadiya():\n",
    "  def __init__(self): \n",
    "    self.name = 'Aladeen' \n",
    "    self.designation = 'President Prime Minister Admiral General' \n",
    "    self.num_of_wife = 100 \n",
    "    self.dictator = True\n",
    "#Write your code for subtask 1, 2, 3 and 4 here    \n",
    "    print('Part 1:')\n",
    "    print('Name of president: ', self.name)\n",
    "    print('Designation: ', self.designation)\n",
    "    print('Number of wife: ', self.num_of_wife)\n",
    "    print('Is he/she a dictator: ', self.dictator)\n",
    "wadiya= Wadiya()\n",
    "wadiya.name='Donald Trump'\n",
    "wadiya.designation='President'\n",
    "wadiya.num_of_wife= 1\n",
    "wadiya.dictator= False\n",
    "print('Part 2:')\n",
    "print('Name of president: ',wadiya.name)\n",
    "print('Designation: ', wadiya.designation)\n",
    "print('Number of wife: ',wadiya.num_of_wife)\n",
    "print('Is he/she a dictator: ',wadiya.dictator)\n",
    "print('Previous information lost')\n",
    "  "
   ]
  },
  {
   "cell_type": "code",
   "execution_count": 6,
   "metadata": {},
   "outputs": [
    {
     "name": "stdout",
     "output_type": "stream",
     "text": [
      "Heath Ledger\n",
      "Mind Game\n",
      "False\n",
      "=====================\n",
      "Joaquin Phoenix\n",
      "Laughing out Loud\n",
      "True\n",
      "=====================\n",
      "different\n",
      "same\n",
      "j1 and j2 have different addresses, so it printed different\n",
      "j2.name and j1.name has the same value, therefore same address so it printed same\n"
     ]
    }
   ],
   "source": [
    "#OOP task 4\n",
    "#Write your class code here\n",
    "class Joker:\n",
    "    def __init__(self,name,power,is_he_psycho):\n",
    "        self.name=name\n",
    "        self.power=power\n",
    "        self.is_he_psycho=is_he_psycho\n",
    "j1 = Joker('Heath Ledger', 'Mind Game', False)\n",
    "print(j1.name)\n",
    "print(j1.power)\n",
    "print(j1.is_he_psycho)\n",
    "print(\"=====================\")\n",
    "j2 = Joker('Joaquin Phoenix', 'Laughing out Loud', True)\n",
    "print(j2.name)\n",
    "print(j2.power)\n",
    "print(j2.is_he_psycho)\n",
    "print(\"=====================\")\n",
    "if j1 == j2:\n",
    "    print('same')\n",
    "else:\n",
    "    print('different')\n",
    "j2.name = 'Heath Ledger'\n",
    "if j1.name == j2.name:\n",
    "    print('same')\n",
    "else:\n",
    "    print('different')\n",
    "#Write your code for 2,3 here\n",
    "print(\"j1 and j2 have different addresses, so it printed different\")\n",
    "print('j2.name and j1.name has the same value, therefore same address so it printed same')"
   ]
  },
  {
   "cell_type": "code",
   "execution_count": 16,
   "metadata": {},
   "outputs": [
    {
     "name": "stdout",
     "output_type": "stream",
     "text": [
      "=======Team 1=======\n",
      "Pokemon 1: pikachu 90\n",
      "Pokemon 2: charmander 60\n",
      "Combined Power: 1500\n",
      "=======Team 2=======\n",
      "Pokemon 1: bulbasur 80\n",
      "Pokemon 2: squirtle 70\n",
      "Combined Power: 1350\n"
     ]
    }
   ],
   "source": [
    "#OOP task 5\n",
    "#Write your code for class here\n",
    "class Pokemon:\n",
    "  def __init__(self,pokemon1_name, pokemon2_name, pokemon1_power, pokemon2_power, damage_rate):\n",
    "    self.pokemon1_name=pokemon1_name\n",
    "    self.pokemon2_name=pokemon2_name\n",
    "    self.pokemon1_power=pokemon1_power\n",
    "    self.pokemon2_power=pokemon2_power\n",
    "    self.damage_rate=damage_rate\n",
    "team_pika = Pokemon('pikachu', 'charmander', 90, 60, 10) \n",
    "print('=======Team 1=======') \n",
    "print('Pokemon 1:',team_pika.pokemon1_name, team_pika.pokemon1_power) \n",
    "print('Pokemon 2:',team_pika.pokemon2_name, team_pika.pokemon2_power) \n",
    "pika_combined_power = (team_pika.pokemon1_power + team_pika.pokemon2_power) * team_pika.damage_rate \n",
    "print('Combined Power:', pika_combined_power)\n",
    "#Write your code for subtask 2,3,4 here\n",
    "team_bulb=Pokemon('bulbasur','squirtle',80,70,9)\n",
    "print('=======Team 2=======')\n",
    "print('Pokemon 1:',team_bulb.pokemon1_name, team_bulb.pokemon1_power)\n",
    "print('Pokemon 2:',team_bulb.pokemon2_name, team_bulb.pokemon2_power)\n",
    "bulb_combined_power = (team_bulb.pokemon1_power + team_bulb.pokemon2_power) * team_bulb.damage_rate\n",
    "print('Combined Power:', bulb_combined_power)\n"
   ]
  },
  {
   "cell_type": "code",
   "execution_count": 8,
   "metadata": {},
   "outputs": [
    {
     "name": "stdout",
     "output_type": "stream",
     "text": [
      "Name of the Player: Ronaldo\n",
      "Jersey Number of player: 9\n",
      "Position of player: Striker\n",
      "===========================\n",
      "Name of the player: Neuer\n",
      "Jersey Number of player: 1\n",
      "Position of player: Goal Keeper\n"
     ]
    }
   ],
   "source": [
    "#OOP task 6\n",
    "# Write Your Class Code Here\n",
    "class Player:\n",
    "  def __init__(self):\n",
    "    pass\n",
    "player1 = Player()\n",
    "player1.name = \"Ronaldo\"\n",
    "player1.jersy_number = 9\n",
    "player1.position = \"Striker\"\n",
    "print(\"Name of the Player:\", player1.name)\n",
    "print(\"Jersey Number of player:\", player1.jersy_number)\n",
    "print(\"Position of player:\", player1.position)\n",
    "print(\"===========================\")\n",
    "player2 = Player()\n",
    "player2.name = \"Neuer\"\n",
    "player2.jersy_number = 1\n",
    "player2.position = \"Goal Keeper\"\n",
    "print(\"Name of the player:\", player2.name)\n",
    "print(\"Jersey Number of player:\", player2.jersy_number)\n",
    "print(\"Position of player:\", player2.position)"
   ]
  },
  {
   "cell_type": "code",
   "execution_count": 14,
   "metadata": {},
   "outputs": [
    {
     "name": "stdout",
     "output_type": "stream",
     "text": [
      "Name: Bangladesh\n",
      "Continent: Asia\n",
      "Capital: Dhaka\n",
      "Fifa Ranking: 187\n",
      "===================\n",
      "Name: Belgium\n",
      "Continent: Europe\n",
      "Capital: Brussels\n",
      "Fifa Ranking: 1\n"
     ]
    }
   ],
   "source": [
    "#OOP task 7\n",
    "# Write your Class Code here\n",
    "class Country:\n",
    "  def __init__(self):\n",
    "    self.name='Bangladesh'\n",
    "    self.continent='Asia'\n",
    "    self.capital='Dhaka'\n",
    "    self.fifa_ranking=187 \n",
    "country = Country()\n",
    "print('Name:',country.name)\n",
    "print('Continent:',country.continent)\n",
    "print('Capital:',country.capital)\n",
    "print('Fifa Ranking:',country.fifa_ranking)\n",
    "print('===================')\n",
    "country.name = \"Belgium\"\n",
    "country.continent = \"Europe\"\n",
    "country.capital = \"Brussels\"\n",
    "country.fifa_ranking = 1\n",
    "print('Name:',country.name)\n",
    "print('Continent:',country.continent)\n",
    "print('Capital:',country.capital)\n",
    "print('Fifa Ranking:',country.fifa_ranking)"
   ]
  },
  {
   "cell_type": "code",
   "execution_count": 13,
   "metadata": {},
   "outputs": [
    {
     "name": "stdout",
     "output_type": "stream",
     "text": [
      "Name: Tanjiro\n",
      "Fighting Style: Water Breathing\n",
      "Knows 10 technique(s) and has killed 10 demon(s)\n",
      "===================\n",
      "Name: Zenitsu\n",
      "Fighting Style: Thunder Breathing\n",
      "Knows 1 technique(s) and has killed 4 demon(s)\n",
      "===================\n",
      "Name: Inosuke\n",
      "Fighting Style: Beast Breathing\n",
      "Knows 5 technique(s) and has killed 7 demon(s)\n",
      "===================\n",
      "Tanjiro, Zenitsu, Inosuke knows total 16 techniques\n",
      "They have killed total 21 demons\n"
     ]
    }
   ],
   "source": [
    "#OOP task 8\n",
    "# Write your Class Code here\n",
    "class DemonSlayer:\n",
    "  def __init__(self,name,style, number_of_technique, kill):\n",
    "    self.name=name\n",
    "    self.style=style\n",
    "    self.number_of_technique=number_of_technique\n",
    "    self.kill=kill\n",
    "tanjiro = DemonSlayer(\"Tanjiro\", \"Water Breathing\", 10, 10)\n",
    "print('Name:',tanjiro.name)\n",
    "print('Fighting Style:',tanjiro.style)\n",
    "print(f'Knows {tanjiro.number_of_technique} technique(s) and has killed {tanjiro.kill} demon(s)')\n",
    "print('===================')\n",
    "zenitsu = DemonSlayer(\"Zenitsu\", \"Thunder Breathing\", 1, 4)\n",
    "print('Name:',zenitsu.name)\n",
    "print('Fighting Style:',zenitsu.style)\n",
    "print(f'Knows {zenitsu.number_of_technique} technique(s) and has killed {zenitsu.kill} demon(s)')\n",
    "print('===================')\n",
    "inosuke = DemonSlayer(\"Inosuke\", \"Beast Breathing\", 5, 7)\n",
    "print('Name:',inosuke.name)\n",
    "print('Fighting Style:',inosuke.style)\n",
    "print(f'Knows {inosuke.number_of_technique} technique(s) and has killed {inosuke.kill} demon(s)')\n",
    "print('===================')\n",
    "print(f'{tanjiro.name}, {zenitsu.name}, {inosuke.name} knows total {tanjiro.number_of_technique + zenitsu.number_of_technique + inosuke.number_of_technique} techniques')\n",
    "print(f'They have killed total {tanjiro.kill + zenitsu.kill + inosuke.kill} demons')"
   ]
  },
  {
   "cell_type": "code",
   "execution_count": 10,
   "metadata": {},
   "outputs": [
    {
     "name": "stdout",
     "output_type": "stream",
     "text": [
      "Box 1\n",
      "Creating a box\n",
      "Volume of the box is 1000 cubic units\n",
      "=========================\n",
      "Height: 10\n",
      "Width: 10\n",
      "Breadth: 10\n",
      "-------------------------\n",
      "Box 2\n",
      "Creating a box\n",
      "Volume of the box is 3000 cubic units\n",
      "=========================\n",
      "Height: 30\n",
      "Width: 10\n",
      "Breadth: 10\n",
      "Updating Box 2!\n",
      "Height: 300\n",
      "Width: 10\n",
      "Breadth: 10\n",
      "-------------------------\n",
      "Box 3\n",
      "Height: 300\n",
      "Width: 10\n",
      "Breadth: 10\n"
     ]
    }
   ],
   "source": [
    "#OOP task 9\n",
    "#Write your class code here\n",
    "class box:\n",
    "  def __init__(self,dimension):\n",
    "    print('Creating a box')\n",
    "    self.volume= dimension[0]*dimension[1]*dimension[2]\n",
    "    print('Volume of the box is '+str(self.volume)+' cubic units')\n",
    "    self.height=dimension[0]\n",
    "    self.width=dimension[1]\n",
    "    self.breadth=dimension[2]\n",
    "print(\"Box 1\")\n",
    "b1 = box([10,10,10])\n",
    "print(\"=========================\")\n",
    "print(\"Height:\", b1.height)\n",
    "print(\"Width:\", b1.width)\n",
    "print(\"Breadth:\", b1.breadth)\n",
    "print(\"-------------------------\")\n",
    "print(\"Box 2\")\n",
    "b2 = box((30,10,10))\n",
    "print(\"=========================\")\n",
    "print(\"Height:\", b2.height)\n",
    "print(\"Width:\", b2.width)\n",
    "print(\"Breadth:\", b2.breadth)\n",
    "b2.height = 300\n",
    "print(\"Updating Box 2!\")\n",
    "print(\"Height:\", b2.height)\n",
    "print(\"Width:\", b2.width)\n",
    "print(\"Breadth:\", b2.breadth)\n",
    "print(\"-------------------------\")\n",
    "print(\"Box 3\")\n",
    "b3 = b2\n",
    "print(\"Height:\", b3.height)\n",
    "print(\"Width:\", b3.width)\n",
    "print(\"Breadth:\", b3.breadth)"
   ]
  },
  {
   "cell_type": "code",
   "execution_count": 9,
   "metadata": {},
   "outputs": [
    {
     "name": "stdout",
     "output_type": "stream",
     "text": [
      "CANCEL Button Specifications: \n",
      "Button Name:  CANCEL\n",
      "Number of the border characters for the top and the bottom:  28\n",
      "Number of spaces between the left side border and the first character of the button name:  10\n",
      "Number of spaces between the right side border and the last character of the button name:  10\n",
      "Characters representing the borders:  x\n",
      "xxxxxxxxxxxxxxxxxxxxxxxxxxxx\n",
      "x CANCEL x\n",
      "xxxxxxxxxxxxxxxxxxxxxxxxxxxx\n",
      "=======================================================\n",
      "Notify Button Specifications: \n",
      "Button Name:  Notify\n",
      "Number of the border characters for the top and the bottom:  14\n",
      "Number of spaces between the left side border and the first character of the button name:  3\n",
      "Number of spaces between the right side border and the last character of the button name:  3\n",
      "Characters representing the borders:  !\n",
      "!!!!!!!!!!!!!!\n",
      "! Notify !\n",
      "!!!!!!!!!!!!!!\n",
      "=======================================================\n",
      "SAVE PROGRESS Button Specifications: \n",
      "Button Name:  SAVE PROGRESS\n",
      "Number of the border characters for the top and the bottom:  25\n",
      "Number of spaces between the left side border and the first character of the button name:  5\n",
      "Number of spaces between the right side border and the last character of the button name:  5\n",
      "Characters representing the borders:  $\n",
      "$$$$$$$$$$$$$$$$$$$$$$$$$\n",
      "$ SAVE PROGRESS $\n",
      "$$$$$$$$$$$$$$$$$$$$$$$$$\n"
     ]
    }
   ],
   "source": [
    "#OOP task 10\n",
    "#Write your class code here\n",
    "class buttons:\n",
    "  def __init__(self,word,spaces,border):\n",
    "    self.word=word\n",
    "    self.spaces=spaces\n",
    "    self.border=border\n",
    "    Numb_of_border = 1 + spaces + len(word) + spaces +1\n",
    "    print(self.word+' Button Specifications: ')\n",
    "    print('Button Name: ',self.word)\n",
    "    print('Number of the border characters for the top and the bottom: ',str(Numb_of_border))\n",
    "    print('Number of spaces between the left side border and the first character of the button name: ',str(spaces))\n",
    "    print('Number of spaces between the right side border and the last character of the button name: ',str(spaces))\n",
    "    print('Characters representing the borders: ', border)\n",
    "    for i in range(Numb_of_border):\n",
    "      print(border,end='')\n",
    "    print()\n",
    "    print(border+' '+word+' '+border)\n",
    "    for i in range(Numb_of_border):\n",
    "      print(border,end='')\n",
    "    print()\n",
    "word = \"CANCEL\"\n",
    "spaces = 10\n",
    "border = 'x'\n",
    "b1 = buttons(word, spaces, border)\n",
    "print(\"=======================================================\")\n",
    "b2 = buttons(\"Notify\",3, '!')\n",
    "print(\"=======================================================\")\n",
    "b3 = buttons('SAVE PROGRESS', 5, '$')"
   ]
  }
 ],
 "metadata": {
  "interpreter": {
   "hash": "e94dd2023f21a93510fb04e380baf504272aa09c40641b7e8c2a7346f5fbf161"
  },
  "kernelspec": {
   "display_name": "Python 3.10.2 64-bit",
   "language": "python",
   "name": "python3"
  },
  "language_info": {
   "codemirror_mode": {
    "name": "ipython",
    "version": 3
   },
   "file_extension": ".py",
   "mimetype": "text/x-python",
   "name": "python",
   "nbconvert_exporter": "python",
   "pygments_lexer": "ipython3",
   "version": "3.10.2"
  },
  "orig_nbformat": 4
 },
 "nbformat": 4,
 "nbformat_minor": 2
}
